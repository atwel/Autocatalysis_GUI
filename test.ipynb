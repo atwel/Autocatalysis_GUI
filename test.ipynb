{
 "metadata": {
  "name": "",
  "signature": "sha256:b48e12d962f26e06de3ae1a2a2c6711910a1fa0c1593ae2b8bde97db3ea946e0"
 },
 "nbformat": 3,
 "nbformat_minor": 0,
 "worksheets": [
  {
   "cells": [
    {
     "cell_type": "code",
     "collapsed": false,
     "input": [
      "import AC_Space, AC_Cells,AC_ProductRuleNet, AC_Products,random"
     ],
     "language": "python",
     "metadata": {},
     "outputs": [],
     "prompt_number": 1
    },
    {
     "cell_type": "code",
     "collapsed": false,
     "input": [],
     "language": "python",
     "metadata": {},
     "outputs": []
    },
    {
     "cell_type": "code",
     "collapsed": false,
     "input": [
      "reload(AC_Space)\n",
      "reload(AC_Cells)"
     ],
     "language": "python",
     "metadata": {},
     "outputs": [
      {
       "metadata": {},
       "output_type": "pyout",
       "prompt_number": 38,
       "text": [
        "<module 'AC_Cells' from 'AC_Cells.pyc'>"
       ]
      }
     ],
     "prompt_number": 38
    },
    {
     "cell_type": "code",
     "collapsed": false,
     "input": [
      "rng = random.Random()\n",
      "net = AC_ProductRuleNet.ProductRuleNet()\n",
      "urn = AC_Products.Urn(\"fixed-rich\", 5, rng,10)\n",
      "cells = [AC_Cells.Cell(urn,net,rng,i) for i in range(30)]"
     ],
     "language": "python",
     "metadata": {},
     "outputs": [],
     "prompt_number": 2
    },
    {
     "cell_type": "code",
     "collapsed": false,
     "input": [
      "w = AC_Space.Space(cells,rng,2,0,dimensions=(10,10))"
     ],
     "language": "python",
     "metadata": {},
     "outputs": [
      {
       "output_type": "stream",
       "stream": "stdout",
       "text": [
        "(0, 1) [(-2, 1), (-1, 2), (0, 3), (1, 2), (2, 1)]\n",
        "(-1, 1) [(-3, 1), (-2, 1), (-2, 2), (-1, 2), (-1, 3)]\n",
        "(0, 0) []\n",
        "(-1, 0) [(-3, 0), (-2, -1), (-2, 1), (-1, -2), (-1, 2)]\n",
        "(-1, -1) [(-3, -1), (-2, -2), (-2, -1), (-1, -3), (-1, -2)]\n",
        "(0, -1) [(-2, -1), (-1, -2), (0, -3), (1, -2), (2, -1)]\n",
        "(1, 0) [(1, -2), (1, 2), (2, -1), (2, 1), (3, 0)]\n",
        "(1, -1) [(1, -3), (1, -2), (2, -2), (2, -1), (3, -1)]\n",
        "(1, 1) [(1, 2), (1, 3), (2, 1), (2, 2), (3, 1)]\n"
       ]
      }
     ],
     "prompt_number": 3
    },
    {
     "cell_type": "code",
     "collapsed": false,
     "input": [
      "AC_Space.within_radius(2,(0,0))"
     ],
     "language": "python",
     "metadata": {},
     "outputs": [
      {
       "metadata": {},
       "output_type": "pyout",
       "prompt_number": 4,
       "text": [
        "[(-2, 0),\n",
        " (-1, -1),\n",
        " (-1, 0),\n",
        " (-1, 1),\n",
        " (0, -2),\n",
        " (0, -1),\n",
        " (0, 0),\n",
        " (0, 1),\n",
        " (0, 2),\n",
        " (1, -1),\n",
        " (1, 0),\n",
        " (1, 1),\n",
        " (2, 0)]"
       ]
      }
     ],
     "prompt_number": 4
    },
    {
     "cell_type": "code",
     "collapsed": false,
     "input": [
      "for i in cells:\n",
      "    ids = [i.get_location()]\n",
      "    for j in i.neighbors:\n",
      "        ids.append((j.id,j.get_location()))\n",
      "    print i.id, ids"
     ],
     "language": "python",
     "metadata": {},
     "outputs": [
      {
       "output_type": "stream",
       "stream": "stdout",
       "text": [
        "0 [(9, 8), (0, (9, 8)), (7, (9, 10)), (17, (10, 7)), (16, (10, 8))]\n",
        "1 [(8, 5), (1, (8, 5)), (11, (8, 6))]\n",
        "2 [(7, 9), (29, (6, 8)), (20, (6, 9)), (2, (7, 9)), (27, (7, 9)), (10, (8, 10))]\n",
        "3 [(8, 2), (28, (7, 2)), (10, (8, 10)), (3, (8, 2)), (6, (9, 2)), (22, (9, 2))]\n",
        "4 [(3, 1), (23, (2, 1)), (4, (3, 1)), (8, (4, 1))]\n",
        "5 [(1, 2), (21, (1, 10)), (5, (1, 2)), (23, (2, 1)), (25, (2, 3))]\n",
        "6 [(9, 2), (28, (7, 2)), (3, (8, 2)), (7, (9, 10)), (6, (9, 2)), (22, (9, 2)), (5, (1, 2))]\n",
        "7 [(9, 10), (10, (8, 10)), (0, (9, 8)), (7, (9, 10)), (6, (9, 2)), (22, (9, 2)), (21, (1, 10))]\n",
        "8 [(4, 1), (23, (2, 1)), (4, (3, 1)), (8, (4, 1)), (13, (5, 10))]\n",
        "9 [(4, 4), (14, (2, 4)), (26, (3, 5)), (9, (4, 4)), (12, (5, 4))]\n",
        "10 [(8, 10), (2, (7, 9)), (27, (7, 9)), (10, (8, 10)), (3, (8, 2)), (7, (9, 10))]\n",
        "11 [(8, 6), (18, (6, 6)), (19, (6, 6)), (1, (8, 5)), (11, (8, 6))]\n",
        "12 [(5, 4), (9, (4, 4)), (12, (5, 4))]\n",
        "13 [(5, 10), (15, (4, 9)), (8, (4, 1)), (13, (5, 10)), (20, (6, 9))]\n",
        "14 [(2, 4), (25, (2, 3)), (14, (2, 4)), (26, (3, 5)), (9, (4, 4))]\n",
        "15 [(4, 9), (15, (4, 9)), (8, (4, 1)), (13, (5, 10)), (20, (6, 9))]\n",
        "16 [(10, 8), (0, (9, 8)), (17, (10, 7)), (16, (10, 8))]\n",
        "17 [(10, 7), (0, (9, 8)), (17, (10, 7)), (16, (10, 8))]\n",
        "18 [(6, 6), (18, (6, 6)), (19, (6, 6)), (29, (6, 8)), (11, (8, 6))]\n",
        "19 [(6, 6), (18, (6, 6)), (19, (6, 6)), (29, (6, 8)), (11, (8, 6))]\n",
        "20 [(6, 9), (15, (4, 9)), (13, (5, 10)), (29, (6, 8)), (20, (6, 9)), (2, (7, 9)), (27, (7, 9))]\n",
        "21 [(1, 10), (21, (1, 10)), (5, (1, 2)), (23, (2, 1))]\n",
        "22 [(9, 2), (28, (7, 2)), (3, (8, 2)), (7, (9, 10)), (6, (9, 2)), (22, (9, 2)), (5, (1, 2))]\n",
        "23 [(2, 1), (21, (1, 10)), (5, (1, 2)), (23, (2, 1)), (25, (2, 3)), (4, (3, 1)), (8, (4, 1))]\n",
        "24 [(3, 6), (26, (3, 5)), (24, (3, 6))]\n",
        "25 [(2, 3), (5, (1, 2)), (23, (2, 1)), (25, (2, 3)), (14, (2, 4))]\n",
        "26 [(3, 5), (14, (2, 4)), (26, (3, 5)), (24, (3, 6)), (9, (4, 4))]\n",
        "27 [(7, 9), (29, (6, 8)), (20, (6, 9)), (2, (7, 9)), (27, (7, 9)), (10, (8, 10))]\n",
        "28 [(7, 2), (28, (7, 2)), (3, (8, 2)), (6, (9, 2)), (22, (9, 2))]\n",
        "29 [(6, 8), (18, (6, 6)), (19, (6, 6)), (29, (6, 8)), (20, (6, 9)), (2, (7, 9)), (27, (7, 9))]\n"
       ]
      }
     ],
     "prompt_number": 5
    },
    {
     "cell_type": "code",
     "collapsed": false,
     "input": [
      "w.activate_random_rule()"
     ],
     "language": "python",
     "metadata": {},
     "outputs": [
      {
       "ename": "ValueError",
       "evalue": "sample larger than population",
       "output_type": "pyerr",
       "traceback": [
        "\u001b[0;31m---------------------------------------------------------------------------\u001b[0m\n\u001b[0;31mValueError\u001b[0m                                Traceback (most recent call last)",
        "\u001b[0;32m<ipython-input-6-5fc2daa69907>\u001b[0m in \u001b[0;36m<module>\u001b[0;34m()\u001b[0m\n\u001b[0;32m----> 1\u001b[0;31m \u001b[0mw\u001b[0m\u001b[0;34m.\u001b[0m\u001b[0mactivate_random_rule\u001b[0m\u001b[0;34m(\u001b[0m\u001b[0;34m)\u001b[0m\u001b[0;34m\u001b[0m\u001b[0m\n\u001b[0m",
        "\u001b[0;32m/Users/atwell/Box Sync/newAC/Merge/AC_Space.py\u001b[0m in \u001b[0;36mactivate_random_rule\u001b[0;34m(self, debug)\u001b[0m\n\u001b[1;32m    197\u001b[0m         a rule from that cell, weighted by the rules' frequencies.\"\"\"\n\u001b[1;32m    198\u001b[0m \u001b[0;34m\u001b[0m\u001b[0m\n\u001b[0;32m--> 199\u001b[0;31m         \u001b[0mcandidate\u001b[0m \u001b[0;34m=\u001b[0m \u001b[0mself\u001b[0m\u001b[0;34m.\u001b[0m\u001b[0mget_random_cell\u001b[0m\u001b[0;34m(\u001b[0m\u001b[0;34m)\u001b[0m\u001b[0;34m\u001b[0m\u001b[0m\n\u001b[0m\u001b[1;32m    200\u001b[0m         \u001b[0mcandidate\u001b[0m\u001b[0;34m.\u001b[0m\u001b[0mset_active_rule\u001b[0m\u001b[0;34m(\u001b[0m\u001b[0mcandidate\u001b[0m\u001b[0;34m.\u001b[0m\u001b[0mget_random_rule\u001b[0m\u001b[0;34m(\u001b[0m\u001b[0;34m)\u001b[0m\u001b[0;34m)\u001b[0m\u001b[0;34m\u001b[0m\u001b[0m\n\u001b[1;32m    201\u001b[0m         \u001b[0mself\u001b[0m\u001b[0;34m.\u001b[0m\u001b[0mmove_cell\u001b[0m\u001b[0;34m(\u001b[0m\u001b[0mcandidate\u001b[0m\u001b[0;34m)\u001b[0m\u001b[0;34m\u001b[0m\u001b[0m\n",
        "\u001b[0;32m/Users/atwell/Box Sync/newAC/Merge/AC_Space.py\u001b[0m in \u001b[0;36mget_random_cell\u001b[0;34m(self, who)\u001b[0m\n\u001b[1;32m    188\u001b[0m                         \u001b[0mcandidates\u001b[0m\u001b[0;34m.\u001b[0m\u001b[0mappend\u001b[0m\u001b[0;34m(\u001b[0m\u001b[0mi\u001b[0m\u001b[0;34m)\u001b[0m\u001b[0;34m\u001b[0m\u001b[0m\n\u001b[1;32m    189\u001b[0m \u001b[0;34m\u001b[0m\u001b[0m\n\u001b[0;32m--> 190\u001b[0;31m         \u001b[0;32mreturn\u001b[0m \u001b[0mself\u001b[0m\u001b[0;34m.\u001b[0m\u001b[0mRNG\u001b[0m\u001b[0;34m.\u001b[0m\u001b[0msample\u001b[0m\u001b[0;34m(\u001b[0m\u001b[0mcandidates\u001b[0m\u001b[0;34m,\u001b[0m \u001b[0;36m1\u001b[0m\u001b[0;34m)\u001b[0m\u001b[0;34m[\u001b[0m\u001b[0;36m0\u001b[0m\u001b[0;34m]\u001b[0m\u001b[0;34m\u001b[0m\u001b[0m\n\u001b[0m\u001b[1;32m    191\u001b[0m \u001b[0;34m\u001b[0m\u001b[0m\n\u001b[1;32m    192\u001b[0m \u001b[0;34m\u001b[0m\u001b[0m\n",
        "\u001b[0;32m/System/Library/Frameworks/Python.framework/Versions/2.7/lib/python2.7/random.pyc\u001b[0m in \u001b[0;36msample\u001b[0;34m(self, population, k)\u001b[0m\n\u001b[1;32m    318\u001b[0m         \u001b[0mn\u001b[0m \u001b[0;34m=\u001b[0m \u001b[0mlen\u001b[0m\u001b[0;34m(\u001b[0m\u001b[0mpopulation\u001b[0m\u001b[0;34m)\u001b[0m\u001b[0;34m\u001b[0m\u001b[0m\n\u001b[1;32m    319\u001b[0m         \u001b[0;32mif\u001b[0m \u001b[0;32mnot\u001b[0m \u001b[0;36m0\u001b[0m \u001b[0;34m<=\u001b[0m \u001b[0mk\u001b[0m \u001b[0;34m<=\u001b[0m \u001b[0mn\u001b[0m\u001b[0;34m:\u001b[0m\u001b[0;34m\u001b[0m\u001b[0m\n\u001b[0;32m--> 320\u001b[0;31m             \u001b[0;32mraise\u001b[0m \u001b[0mValueError\u001b[0m\u001b[0;34m(\u001b[0m\u001b[0;34m\"sample larger than population\"\u001b[0m\u001b[0;34m)\u001b[0m\u001b[0;34m\u001b[0m\u001b[0m\n\u001b[0m\u001b[1;32m    321\u001b[0m         \u001b[0mrandom\u001b[0m \u001b[0;34m=\u001b[0m \u001b[0mself\u001b[0m\u001b[0;34m.\u001b[0m\u001b[0mrandom\u001b[0m\u001b[0;34m\u001b[0m\u001b[0m\n\u001b[1;32m    322\u001b[0m         \u001b[0m_int\u001b[0m \u001b[0;34m=\u001b[0m \u001b[0mint\u001b[0m\u001b[0;34m\u001b[0m\u001b[0m\n",
        "\u001b[0;31mValueError\u001b[0m: sample larger than population"
       ]
      }
     ],
     "prompt_number": 6
    },
    {
     "cell_type": "code",
     "collapsed": false,
     "input": [
      "a.neighbors"
     ],
     "language": "python",
     "metadata": {},
     "outputs": [
      {
       "metadata": {},
       "output_type": "pyout",
       "prompt_number": 57,
       "text": [
        "[]"
       ]
      }
     ],
     "prompt_number": 57
    },
    {
     "cell_type": "code",
     "collapsed": false,
     "input": [
      "w.neighbor_grid[0][0]"
     ],
     "language": "python",
     "metadata": {},
     "outputs": [
      {
       "metadata": {},
       "output_type": "pyout",
       "prompt_number": 29,
       "text": [
        "[<AC_Cells.Cell instance at 0x10bbc6f80>,\n",
        " <AC_Cells.Cell instance at 0x10bbc6f80>,\n",
        " <AC_Cells.Cell instance at 0x10bbbc710>,\n",
        " <AC_Cells.Cell instance at 0x10bbbc710>,\n",
        " <AC_Cells.Cell instance at 0x10bbc19e0>,\n",
        " <AC_Cells.Cell instance at 0x10bbc28c0>]"
       ]
      }
     ],
     "prompt_number": 29
    },
    {
     "cell_type": "code",
     "collapsed": false,
     "input": [],
     "language": "python",
     "metadata": {},
     "outputs": []
    }
   ],
   "metadata": {}
  }
 ]
}